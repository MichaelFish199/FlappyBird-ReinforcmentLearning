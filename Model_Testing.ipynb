{
 "cells": [
  {
   "cell_type": "markdown",
   "id": "4bab3462",
   "metadata": {},
   "source": [
    "# Environment Setup"
   ]
  },
  {
   "cell_type": "code",
   "execution_count": 1,
   "id": "090886f1",
   "metadata": {},
   "outputs": [],
   "source": [
    "#!pip install stable_baselines3\n",
    "#!pip install opencv-python\n",
    "#!pip install mss\n",
    "#!pip install pydirectinput\n",
    "#!pip install gym gym-retro"
   ]
  },
  {
   "cell_type": "code",
   "execution_count": 2,
   "id": "b3adb8ae",
   "metadata": {},
   "outputs": [],
   "source": [
    "# Vec wrappers to vectorize and frame stack\n",
    "from stable_baselines3.common.vec_env import DummyVecEnv, VecFrameStack"
   ]
  },
  {
   "cell_type": "code",
   "execution_count": 3,
   "id": "e92489e3",
   "metadata": {},
   "outputs": [],
   "source": [
    "# Running Environment.py to setup custom Flappy_Bird environment.\n",
    "%run tools\\Environment.py"
   ]
  },
  {
   "cell_type": "code",
   "execution_count": 4,
   "id": "42102af7",
   "metadata": {},
   "outputs": [],
   "source": [
    "# Creating environment \n",
    "env = Flappy_Bird()\n",
    "env = DummyVecEnv([lambda: env])\n",
    "env = VecFrameStack(env, 4, channels_order='last')"
   ]
  },
  {
   "cell_type": "markdown",
   "id": "0c13cfd6",
   "metadata": {},
   "source": [
    "# Testing Model"
   ]
  },
  {
   "cell_type": "code",
   "execution_count": 5,
   "id": "052ae59d",
   "metadata": {},
   "outputs": [],
   "source": [
    "# Model\n",
    "from stable_baselines3 import DQN"
   ]
  },
  {
   "cell_type": "code",
   "execution_count": 6,
   "id": "66d4c186",
   "metadata": {
    "scrolled": true
   },
   "outputs": [],
   "source": [
    "model = DQN.load(\"tools/FlappyBird_DQN_Medium\")"
   ]
  },
  {
   "cell_type": "code",
   "execution_count": 8,
   "id": "a83c479f",
   "metadata": {},
   "outputs": [
    {
     "name": "stdout",
     "output_type": "stream",
     "text": [
      "Total Reward for episode 0 is [50.]\n"
     ]
    }
   ],
   "source": [
    "# Games with random action\n",
    "for episode in range(1): \n",
    "    obs = env.reset()\n",
    "    done = False\n",
    "    total_reward = 0\n",
    "    \n",
    "    # There is a bug, game resets due to framestacking\n",
    "    # So I changed loop\n",
    "    for _ in range(50): # 50 actions\n",
    "        action, state = model.predict(obs)\n",
    "        obs, reward, done, info = env.step(action)\n",
    "        total_reward += reward\n",
    "        \n",
    "    print(f'Total Reward for episode {episode} is {total_reward}') "
   ]
  },
  {
   "cell_type": "code",
   "execution_count": null,
   "id": "fac39d4e",
   "metadata": {},
   "outputs": [],
   "source": []
  }
 ],
 "metadata": {
  "kernelspec": {
   "display_name": "Python 3 (ipykernel)",
   "language": "python",
   "name": "python3"
  },
  "language_info": {
   "codemirror_mode": {
    "name": "ipython",
    "version": 3
   },
   "file_extension": ".py",
   "mimetype": "text/x-python",
   "name": "python",
   "nbconvert_exporter": "python",
   "pygments_lexer": "ipython3",
   "version": "3.9.12"
  }
 },
 "nbformat": 4,
 "nbformat_minor": 5
}
