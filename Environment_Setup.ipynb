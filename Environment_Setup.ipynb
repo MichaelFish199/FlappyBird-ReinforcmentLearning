{
 "cells": [
  {
   "cell_type": "markdown",
   "metadata": {},
   "source": [
    "# Environment Setup"
   ]
  },
  {
   "cell_type": "code",
   "execution_count": 13,
   "metadata": {},
   "outputs": [],
   "source": [
    "#!pip install opencv-python,\n",
    "#!pip install stable-baselines3[extra]"
   ]
  },
  {
   "cell_type": "code",
   "execution_count": 14,
   "metadata": {},
   "outputs": [],
   "source": [
    "# For screen capture\n",
    "from mss import mss\n",
    "# For sending commands\n",
    "import pydirectinput\n",
    "# For frame preprocessing\n",
    "import cv2\n",
    "# For array transformations\n",
    "import numpy as np\n",
    "# For plotting frames\n",
    "from matplotlib import pyplot as plt\n",
    "# For slowing down game\n",
    "import time\n",
    "# Bese Environment components\n",
    "from gym import Env\n",
    "from gym.spaces import Box, Discrete"
   ]
  },
  {
   "cell_type": "code",
   "execution_count": 15,
   "metadata": {
    "id": "UwvbToxM91zc"
   },
   "outputs": [],
   "source": [
    "class Flappy_Bird(Env):\n",
    "    \n",
    "    def __init__(self):\n",
    "        super().__init__()\n",
    "        # Specify observation space and action space\n",
    "        self.observation_space = Box(low=0, high=255, shape=(1,80,80), dtype=np.uint8)\n",
    "        self.action_space = Discrete(2)\n",
    "        # Capture game frames\n",
    "        self.cap = mss()\n",
    "        self.game_location = {'top': 200, 'left': 640, 'width': 420, 'height': 600}\n",
    "        self.done_location = {'top': 360, 'left': 760, 'width': 1, 'height': 1}\n",
    "        \n",
    "    def step(self, action):\n",
    "        # Action\n",
    "        if action == 0:\n",
    "            # Jump\n",
    "            pydirectinput.click(x=750, y=670)\n",
    "        else:\n",
    "            # Do nothink\n",
    "            time.sleep(0.18)\n",
    "\n",
    "        # Checking if game is done\n",
    "        done, done_cap = self.get_done() \n",
    "        # Getting observation\n",
    "        observation = self.get_observation()\n",
    "        reward = 1 \n",
    "        info = {}\n",
    "        return observation, reward, done, info\n",
    "    \n",
    "    def reset(self):\n",
    "        # Reseting game\n",
    "        time.sleep(2)\n",
    "        for _ in range(3):\n",
    "            time.sleep(0.08)\n",
    "            pydirectinput.click(x=750, y=670)\n",
    "        return self.get_observation()\n",
    "        \n",
    "    def render(self):\n",
    "        # Rendering\n",
    "        cv2.imshow('Game', self.current_frame)\n",
    "        if cv2.waitKey(1) & 0xFF == ord('q'):\n",
    "            self.close()\n",
    "    \n",
    "    def get_observation(self):\n",
    "        # Frame preprocessing\n",
    "        raw = np.array(self.cap.grab(self.game_location))[:,:,:3].astype(np.uint8)\n",
    "        gray = cv2.cvtColor(raw, cv2.COLOR_BGR2GRAY)\n",
    "        resized = cv2.resize(gray, (80,80))\n",
    "        channel = np.reshape(resized, (1,80,80))\n",
    "        return channel\n",
    "    \n",
    "    def get_done(self):\n",
    "        # Has game ended\n",
    "        done_cap = np.array(self.cap.grab(self.done_location))\n",
    "        done=False\n",
    "        if 700 < np.sum(done_cap) < 720 :\n",
    "            done = True\n",
    "            \n",
    "        return done, done_cap\n",
    "    \n",
    "    def close(self):\n",
    "        # Closing env\n",
    "        cv2.destroyAllWindows()"
   ]
  },
  {
   "cell_type": "markdown",
   "metadata": {},
   "source": [
    "# Testing Environment"
   ]
  },
  {
   "cell_type": "code",
   "execution_count": 18,
   "metadata": {},
   "outputs": [],
   "source": [
    "# Creating environment\n",
    "env = Flappy_Bird()"
   ]
  },
  {
   "cell_type": "code",
   "execution_count": 19,
   "metadata": {},
   "outputs": [
    {
     "data": {
      "image/png": "[encoded data removed]",
      "text/plain": [
       "<Figure size 640x480 with 1 Axes>"
      ]
     },
     "metadata": {},
     "output_type": "display_data"
    }
   ],
   "source": [
    "# Getting observation\n",
    "obs = env.get_observation()\n",
    "# Plotting observation\n",
    "plt.imshow(cv2.cvtColor(obs[0], cv2.COLOR_GRAY2BGR));"
   ]
  },
  {
   "cell_type": "code",
   "execution_count": 20,
   "metadata": {},
   "outputs": [
    {
     "name": "stdout",
     "output_type": "stream",
     "text": [
      "Is game done?: True\n"
     ]
    },
    {
     "data": {
      "image/png": "[encoded data removed]",
      "text/plain": [
       "<Figure size 640x480 with 1 Axes>"
      ]
     },
     "metadata": {},
     "output_type": "display_data"
    }
   ],
   "source": [
    "# Checking if game has ended and what rgb values are condition for ending game\n",
    "done, done_cap = env.get_done()\n",
    "\n",
    "print(\"Is game done?:\",done)\n",
    "plt.title(f\"{done_cap}\")\n",
    "plt.imshow(cv2.cvtColor(done_cap[0], cv2.COLOR_GRAY2BGR));\n",
    "plt.show()"
   ]
  },
  {
   "cell_type": "code",
   "execution_count": 10,
   "metadata": {},
   "outputs": [
    {
     "name": "stdout",
     "output_type": "stream",
     "text": [
      "1-0-1-0-0-0-0-0-0-Total Reward for episode 0 is 9\n",
      "0-0-1-1-1-0-1-1-1-0-1-0-Total Reward for episode 1 is 12\n",
      "0-1-0-1-0-1-0-0-0-1-1-Total Reward for episode 2 is 11\n",
      "1-1-1-0-1-1-0-1-0-0-Total Reward for episode 3 is 10\n"
     ]
    }
   ],
   "source": [
    "# Games with random action\n",
    "for episode in range(4): \n",
    "    obs = env.reset()\n",
    "    done = False\n",
    "    total_reward = 0\n",
    "    \n",
    "    while not done: \n",
    "        action = env.action_space.sample()\n",
    "        print(action, end=\"-\")\n",
    "        obs, reward, done, info =  env.step(action)\n",
    "        total_reward += reward\n",
    "        \n",
    "    print(f'Total Reward for episode {episode} is {total_reward}') "
   ]
  },
  {
   "cell_type": "code",
   "execution_count": 27,
   "metadata": {},
   "outputs": [
    {
     "name": "stdout",
     "output_type": "stream",
     "text": [
      "None\n"
     ]
    }
   ],
   "source": [
    "# Checkign for errors in environment\n",
    "from stable_baselines3.common import env_checker\n",
    "print(env_checker.check_env(env))"
   ]
  },
  {
   "cell_type": "code",
   "execution_count": null,
   "metadata": {},
   "outputs": [],
   "source": []
  }
 ],
 "metadata": {
  "colab": {
   "authorship_tag": "ABX9TyN/6HCpeg4P6miqYNvFyCcX",
   "collapsed_sections": [],
   "provenance": []
  },
  "kernelspec": {
   "display_name": "Python 3 (ipykernel)",
   "language": "python",
   "name": "python3"
  },
  "language_info": {
   "codemirror_mode": {
    "name": "ipython",
    "version": 3
   },
   "file_extension": ".py",
   "mimetype": "text/x-python",
   "name": "python",
   "nbconvert_exporter": "python",
   "pygments_lexer": "ipython3",
   "version": "3.8.13"
  }
 },
 "nbformat": 4,
 "nbformat_minor": 1
}
